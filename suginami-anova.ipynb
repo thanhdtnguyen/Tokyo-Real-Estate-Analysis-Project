{
 "cells": [
  {
   "cell_type": "markdown",
   "metadata": {
    "papermill": {
     "duration": 0.006795,
     "end_time": "2021-01-03T10:37:15.227723",
     "exception": false,
     "start_time": "2021-01-03T10:37:15.220928",
     "status": "completed"
    },
    "tags": []
   },
   "source": [
    "### Suginamiku - Analysis of Variance on Building Structure"
   ]
  },
  {
   "cell_type": "code",
   "execution_count": 1,
   "metadata": {
    "_cell_guid": "79c7e3d0-c299-4dcb-8224-4455121ee9b0",
    "_uuid": "d629ff2d2480ee46fbb7e2d37f6b5fab8052498a",
    "execution": {
     "iopub.execute_input": "2021-01-03T10:37:15.250532Z",
     "iopub.status.busy": "2021-01-03T10:37:15.248410Z",
     "iopub.status.idle": "2021-01-03T10:37:21.788555Z",
     "shell.execute_reply": "2021-01-03T10:37:21.787602Z"
    },
    "papermill": {
     "duration": 6.554772,
     "end_time": "2021-01-03T10:37:21.788764",
     "exception": false,
     "start_time": "2021-01-03T10:37:15.233992",
     "status": "completed"
    },
    "tags": []
   },
   "outputs": [
    {
     "name": "stdout",
     "output_type": "stream",
     "text": [
      "Libraries imported.\n",
      "2.3.1\n"
     ]
    }
   ],
   "source": [
    "import pandas as pd\n",
    "import numpy as np\n",
    "import matplotlib.pyplot as plt\n",
    "import tensorflow as tf\n",
    "import seaborn as sns\n",
    "\n",
    "from pandas.plotting import scatter_matrix\n",
    "from scipy import stats\n",
    "from keras import backend as K\n",
    "\n",
    "%matplotlib inline\n",
    "\n",
    "print(\"Libraries imported.\")\n",
    "print(tf.__version__)"
   ]
  },
  {
   "cell_type": "code",
   "execution_count": 2,
   "metadata": {
    "execution": {
     "iopub.execute_input": "2021-01-03T10:37:21.819994Z",
     "iopub.status.busy": "2021-01-03T10:37:21.819316Z",
     "iopub.status.idle": "2021-01-03T10:37:21.875050Z",
     "shell.execute_reply": "2021-01-03T10:37:21.874357Z"
    },
    "papermill": {
     "duration": 0.075398,
     "end_time": "2021-01-03T10:37:21.875180",
     "exception": false,
     "start_time": "2021-01-03T10:37:21.799782",
     "status": "completed"
    },
    "tags": []
   },
   "outputs": [
    {
     "data": {
      "text/html": [
       "<div>\n",
       "<style scoped>\n",
       "    .dataframe tbody tr th:only-of-type {\n",
       "        vertical-align: middle;\n",
       "    }\n",
       "\n",
       "    .dataframe tbody tr th {\n",
       "        vertical-align: top;\n",
       "    }\n",
       "\n",
       "    .dataframe thead th {\n",
       "        text-align: right;\n",
       "    }\n",
       "</style>\n",
       "<table border=\"1\" class=\"dataframe\">\n",
       "  <thead>\n",
       "    <tr style=\"text-align: right;\">\n",
       "      <th></th>\n",
       "      <th>type</th>\n",
       "      <th>transaction_period</th>\n",
       "      <th>building_structure</th>\n",
       "      <th>city_planning</th>\n",
       "      <th>construction_year</th>\n",
       "      <th>location</th>\n",
       "      <th>nearest_station</th>\n",
       "      <th>distance_to_station</th>\n",
       "      <th>area</th>\n",
       "      <th>building_age</th>\n",
       "      <th>maximum_coverage_ratio</th>\n",
       "      <th>maximum_floor_area_ratio</th>\n",
       "      <th>price</th>\n",
       "    </tr>\n",
       "  </thead>\n",
       "  <tbody>\n",
       "    <tr>\n",
       "      <th>0</th>\n",
       "      <td>Pre-owned Condominiums, etc.</td>\n",
       "      <td>1st quarter 2020</td>\n",
       "      <td>RC</td>\n",
       "      <td>Category I Exclusively Low-story Residential Zone</td>\n",
       "      <td>1984</td>\n",
       "      <td>Asagayakita</td>\n",
       "      <td>Asagaya</td>\n",
       "      <td>10</td>\n",
       "      <td>15</td>\n",
       "      <td>36</td>\n",
       "      <td>0.6</td>\n",
       "      <td>1.5</td>\n",
       "      <td>95060.0</td>\n",
       "    </tr>\n",
       "    <tr>\n",
       "      <th>1</th>\n",
       "      <td>Pre-owned Condominiums, etc.</td>\n",
       "      <td>1st quarter 2020</td>\n",
       "      <td>RC</td>\n",
       "      <td>Neighborhood Commercial Zone</td>\n",
       "      <td>2006</td>\n",
       "      <td>Asagayakita</td>\n",
       "      <td>Asagaya</td>\n",
       "      <td>14</td>\n",
       "      <td>20</td>\n",
       "      <td>14</td>\n",
       "      <td>0.8</td>\n",
       "      <td>3.0</td>\n",
       "      <td>194000.0</td>\n",
       "    </tr>\n",
       "  </tbody>\n",
       "</table>\n",
       "</div>"
      ],
      "text/plain": [
       "                           type transaction_period building_structure  \\\n",
       "0  Pre-owned Condominiums, etc.   1st quarter 2020                 RC   \n",
       "1  Pre-owned Condominiums, etc.   1st quarter 2020                 RC   \n",
       "\n",
       "                                       city_planning  construction_year  \\\n",
       "0  Category I Exclusively Low-story Residential Zone               1984   \n",
       "1                       Neighborhood Commercial Zone               2006   \n",
       "\n",
       "      location nearest_station  distance_to_station  area  building_age  \\\n",
       "0  Asagayakita         Asagaya                   10    15            36   \n",
       "1  Asagayakita         Asagaya                   14    20            14   \n",
       "\n",
       "   maximum_coverage_ratio  maximum_floor_area_ratio     price  \n",
       "0                     0.6                       1.5   95060.0  \n",
       "1                     0.8                       3.0  194000.0  "
      ]
     },
     "execution_count": 2,
     "metadata": {},
     "output_type": "execute_result"
    }
   ],
   "source": [
    "path = \"../input/suginami-data/suginamiku_cleaned_data_1m.csv\"\n",
    "\n",
    "suginami_data = pd.read_csv(path, index_col=0)\n",
    "suginami_data.head(2)"
   ]
  },
  {
   "cell_type": "code",
   "execution_count": 3,
   "metadata": {
    "execution": {
     "iopub.execute_input": "2021-01-03T10:37:21.905123Z",
     "iopub.status.busy": "2021-01-03T10:37:21.904359Z",
     "iopub.status.idle": "2021-01-03T10:37:21.909449Z",
     "shell.execute_reply": "2021-01-03T10:37:21.909955Z"
    },
    "papermill": {
     "duration": 0.024238,
     "end_time": "2021-01-03T10:37:21.910102",
     "exception": false,
     "start_time": "2021-01-03T10:37:21.885864",
     "status": "completed"
    },
    "tags": []
   },
   "outputs": [
    {
     "data": {
      "text/plain": [
       "RC         4460\n",
       "SRC        1021\n",
       "S            28\n",
       "LS            5\n",
       "SRC, RC       3\n",
       "Name: building_structure, dtype: int64"
      ]
     },
     "execution_count": 3,
     "metadata": {},
     "output_type": "execute_result"
    }
   ],
   "source": [
    "suginami_data[\"building_structure\"].value_counts()"
   ]
  },
  {
   "cell_type": "code",
   "execution_count": 4,
   "metadata": {
    "execution": {
     "iopub.execute_input": "2021-01-03T10:37:21.934217Z",
     "iopub.status.busy": "2021-01-03T10:37:21.933480Z",
     "iopub.status.idle": "2021-01-03T10:37:21.937230Z",
     "shell.execute_reply": "2021-01-03T10:37:21.936727Z"
    },
    "papermill": {
     "duration": 0.019548,
     "end_time": "2021-01-03T10:37:21.937320",
     "exception": false,
     "start_time": "2021-01-03T10:37:21.917772",
     "status": "completed"
    },
    "tags": []
   },
   "outputs": [],
   "source": [
    "grouped_test1 = suginami_data[[\"building_structure\",\"price\"]].groupby([\"building_structure\"])"
   ]
  },
  {
   "cell_type": "code",
   "execution_count": 5,
   "metadata": {
    "execution": {
     "iopub.execute_input": "2021-01-03T10:37:21.959928Z",
     "iopub.status.busy": "2021-01-03T10:37:21.958786Z",
     "iopub.status.idle": "2021-01-03T10:37:21.968948Z",
     "shell.execute_reply": "2021-01-03T10:37:21.968403Z"
    },
    "papermill": {
     "duration": 0.024103,
     "end_time": "2021-01-03T10:37:21.969059",
     "exception": false,
     "start_time": "2021-01-03T10:37:21.944956",
     "status": "completed"
    },
    "tags": []
   },
   "outputs": [
    {
     "name": "stdout",
     "output_type": "stream",
     "text": [
      "10.407065872318867 and 2.1385606137854437e-08\n"
     ]
    }
   ],
   "source": [
    "f_val,p_val = stats.f_oneway(grouped_test1.get_group(\"RC\")[\"price\"],\n",
    "                             grouped_test1.get_group(\"SRC\")[\"price\"],\n",
    "                             grouped_test1.get_group(\"S\")[\"price\"],\n",
    "                             grouped_test1.get_group(\"LS\")[\"price\"],\n",
    "                             grouped_test1.get_group(\"SRC, RC\")[\"price\"])\n",
    "print(f_val, \"and\", p_val)"
   ]
  },
  {
   "cell_type": "code",
   "execution_count": 6,
   "metadata": {
    "execution": {
     "iopub.execute_input": "2021-01-03T10:37:21.993216Z",
     "iopub.status.busy": "2021-01-03T10:37:21.992065Z",
     "iopub.status.idle": "2021-01-03T10:37:21.999140Z",
     "shell.execute_reply": "2021-01-03T10:37:21.998581Z"
    },
    "papermill": {
     "duration": 0.021302,
     "end_time": "2021-01-03T10:37:21.999245",
     "exception": false,
     "start_time": "2021-01-03T10:37:21.977943",
     "status": "completed"
    },
    "tags": []
   },
   "outputs": [
    {
     "name": "stdout",
     "output_type": "stream",
     "text": [
      "30.77256427362715 and 3.0371016521980784e-08\n"
     ]
    }
   ],
   "source": [
    "f_val,p_val = stats.f_oneway(grouped_test1.get_group(\"RC\")[\"price\"],\n",
    "                             grouped_test1.get_group(\"SRC\")[\"price\"])\n",
    "print(f_val, \"and\", p_val)"
   ]
  },
  {
   "cell_type": "code",
   "execution_count": 7,
   "metadata": {
    "execution": {
     "iopub.execute_input": "2021-01-03T10:37:22.026245Z",
     "iopub.status.busy": "2021-01-03T10:37:22.025297Z",
     "iopub.status.idle": "2021-01-03T10:37:22.254287Z",
     "shell.execute_reply": "2021-01-03T10:37:22.253722Z"
    },
    "papermill": {
     "duration": 0.246173,
     "end_time": "2021-01-03T10:37:22.254396",
     "exception": false,
     "start_time": "2021-01-03T10:37:22.008223",
     "status": "completed"
    },
    "tags": []
   },
   "outputs": [
    {
     "data": {
      "text/plain": [
       "<matplotlib.axes._subplots.AxesSubplot at 0x7f5dc95565d0>"
      ]
     },
     "execution_count": 7,
     "metadata": {},
     "output_type": "execute_result"
    },
    {
     "data": {
      "image/png": "[encoded data removed]",
      "text/plain": [
       "<Figure size 432x288 with 1 Axes>"
      ]
     },
     "metadata": {
      "needs_background": "light"
     },
     "output_type": "display_data"
    }
   ],
   "source": [
    "sns.boxplot(x=\"building_structure\",y=\"price\", data=suginami_data)"
   ]
  }
 ],
 "metadata": {
  "kernelspec": {
   "display_name": "Python 3",
   "language": "python",
   "name": "python3"
  },
  "language_info": {
   "codemirror_mode": {
    "name": "ipython",
    "version": 3
   },
   "file_extension": ".py",
   "mimetype": "text/x-python",
   "name": "python",
   "nbconvert_exporter": "python",
   "pygments_lexer": "ipython3",
   "version": "3.7.6"
  },
  "papermill": {
   "duration": 11.565498,
   "end_time": "2021-01-03T10:37:22.373800",
   "environment_variables": {},
   "exception": null,
   "input_path": "__notebook__.ipynb",
   "output_path": "__notebook__.ipynb",
   "parameters": {},
   "start_time": "2021-01-03T10:37:10.808302",
   "version": "2.1.0"
  }
 },
 "nbformat": 4,
 "nbformat_minor": 4
}
