{
 "cells": [
  {
   "cell_type": "markdown",
   "metadata": {
    "papermill": {
     "duration": 0.017444,
     "end_time": "2020-12-20T02:13:01.844985",
     "exception": false,
     "start_time": "2020-12-20T02:13:01.827541",
     "status": "completed"
    },
    "tags": []
   },
   "source": [
    "## Toshimaku Real Estate Multiple Regression Model\n",
    "Notebook Author: NGUYEN Dai Truong Thanh\n",
    "\n",
    "Ritsumeikan Asia Pacific University"
   ]
  },
  {
   "cell_type": "markdown",
   "metadata": {
    "papermill": {
     "duration": 0.013278,
     "end_time": "2020-12-20T02:13:01.871515",
     "exception": false,
     "start_time": "2020-12-20T02:13:01.858237",
     "status": "completed"
    },
    "tags": []
   },
   "source": [
    "### Data Preparation"
   ]
  },
  {
   "cell_type": "code",
   "execution_count": 1,
   "metadata": {
    "_cell_guid": "79c7e3d0-c299-4dcb-8224-4455121ee9b0",
    "_uuid": "d629ff2d2480ee46fbb7e2d37f6b5fab8052498a",
    "execution": {
     "iopub.execute_input": "2020-12-20T02:13:01.912794Z",
     "iopub.status.busy": "2020-12-20T02:13:01.911997Z",
     "iopub.status.idle": "2020-12-20T02:13:10.173427Z",
     "shell.execute_reply": "2020-12-20T02:13:10.171718Z"
    },
    "papermill": {
     "duration": 8.288165,
     "end_time": "2020-12-20T02:13:10.173598",
     "exception": false,
     "start_time": "2020-12-20T02:13:01.885433",
     "status": "completed"
    },
    "tags": []
   },
   "outputs": [
    {
     "name": "stdout",
     "output_type": "stream",
     "text": [
      "Libraries imported.\n",
      "2.3.1\n"
     ]
    }
   ],
   "source": [
    "import pandas as pd\n",
    "import numpy as np\n",
    "import matplotlib.pyplot as plt\n",
    "import tensorflow as tf\n",
    "import seaborn as sns\n",
    "\n",
    "from sklearn.model_selection import train_test_split\n",
    "from tensorflow import keras\n",
    "from tensorflow.keras import layers\n",
    "from tensorflow.keras.layers.experimental import preprocessing\n",
    "from tensorflow.keras.models import Sequential\n",
    "from tensorflow.keras.layers import Dense, Dropout\n",
    "from tensorflow.keras.callbacks import EarlyStopping, LambdaCallback\n",
    "\n",
    "%matplotlib inline\n",
    "\n",
    "print(\"Libraries imported.\")\n",
    "print(tf.__version__)"
   ]
  },
  {
   "cell_type": "code",
   "execution_count": 2,
   "metadata": {
    "execution": {
     "iopub.execute_input": "2020-12-20T02:13:10.212374Z",
     "iopub.status.busy": "2020-12-20T02:13:10.211652Z",
     "iopub.status.idle": "2020-12-20T02:13:10.274733Z",
     "shell.execute_reply": "2020-12-20T02:13:10.274110Z"
    },
    "papermill": {
     "duration": 0.087094,
     "end_time": "2020-12-20T02:13:10.274871",
     "exception": false,
     "start_time": "2020-12-20T02:13:10.187777",
     "status": "completed"
    },
    "tags": []
   },
   "outputs": [
    {
     "data": {
      "text/html": [
       "<div>\n",
       "<style scoped>\n",
       "    .dataframe tbody tr th:only-of-type {\n",
       "        vertical-align: middle;\n",
       "    }\n",
       "\n",
       "    .dataframe tbody tr th {\n",
       "        vertical-align: top;\n",
       "    }\n",
       "\n",
       "    .dataframe thead th {\n",
       "        text-align: right;\n",
       "    }\n",
       "</style>\n",
       "<table border=\"1\" class=\"dataframe\">\n",
       "  <thead>\n",
       "    <tr style=\"text-align: right;\">\n",
       "      <th></th>\n",
       "      <th>Nearest stationFDistance(minute)</th>\n",
       "      <th>Area(m^2)</th>\n",
       "      <th>Maximus Building Coverage Ratio(%)</th>\n",
       "      <th>Maximus Floor-area Ratio(%)</th>\n",
       "      <th>Building Age</th>\n",
       "      <th>Transaction-price(total)</th>\n",
       "    </tr>\n",
       "  </thead>\n",
       "  <tbody>\n",
       "    <tr>\n",
       "      <th>0</th>\n",
       "      <td>0.08</td>\n",
       "      <td>0.002513</td>\n",
       "      <td>1.0</td>\n",
       "      <td>0.454545</td>\n",
       "      <td>0.472973</td>\n",
       "      <td>0.002578</td>\n",
       "    </tr>\n",
       "    <tr>\n",
       "      <th>1</th>\n",
       "      <td>0.11</td>\n",
       "      <td>0.005025</td>\n",
       "      <td>1.0</td>\n",
       "      <td>0.272727</td>\n",
       "      <td>0.135135</td>\n",
       "      <td>0.003714</td>\n",
       "    </tr>\n",
       "    <tr>\n",
       "      <th>2</th>\n",
       "      <td>0.09</td>\n",
       "      <td>0.005025</td>\n",
       "      <td>1.0</td>\n",
       "      <td>0.363636</td>\n",
       "      <td>0.108108</td>\n",
       "      <td>0.006442</td>\n",
       "    </tr>\n",
       "    <tr>\n",
       "      <th>3</th>\n",
       "      <td>0.10</td>\n",
       "      <td>0.005025</td>\n",
       "      <td>1.0</td>\n",
       "      <td>0.272727</td>\n",
       "      <td>0.216216</td>\n",
       "      <td>0.003032</td>\n",
       "    </tr>\n",
       "    <tr>\n",
       "      <th>4</th>\n",
       "      <td>0.11</td>\n",
       "      <td>0.005025</td>\n",
       "      <td>1.0</td>\n",
       "      <td>0.272727</td>\n",
       "      <td>0.135135</td>\n",
       "      <td>0.003942</td>\n",
       "    </tr>\n",
       "  </tbody>\n",
       "</table>\n",
       "</div>"
      ],
      "text/plain": [
       "   Nearest stationFDistance(minute)  Area(m^2)  \\\n",
       "0                               0.08   0.002513   \n",
       "1                               0.11   0.005025   \n",
       "2                               0.09   0.005025   \n",
       "3                               0.10   0.005025   \n",
       "4                               0.11   0.005025   \n",
       "\n",
       "   Maximus Building Coverage Ratio(%)  Maximus Floor-area Ratio(%)  \\\n",
       "0                                 1.0                     0.454545   \n",
       "1                                 1.0                     0.272727   \n",
       "2                                 1.0                     0.363636   \n",
       "3                                 1.0                     0.272727   \n",
       "4                                 1.0                     0.272727   \n",
       "\n",
       "   Building Age  Transaction-price(total)  \n",
       "0      0.472973                  0.002578  \n",
       "1      0.135135                  0.003714  \n",
       "2      0.108108                  0.006442  \n",
       "3      0.216216                  0.003032  \n",
       "4      0.135135                  0.003942  "
      ]
     },
     "execution_count": 2,
     "metadata": {},
     "output_type": "execute_result"
    }
   ],
   "source": [
    "path = \"../input/toshima-data/toshimaku_data_norm.csv\"\n",
    "\n",
    "toshima_data = pd.read_csv(path, index_col=0)\n",
    "toshima_data.head()"
   ]
  },
  {
   "cell_type": "code",
   "execution_count": 3,
   "metadata": {
    "execution": {
     "iopub.execute_input": "2020-12-20T02:13:10.309480Z",
     "iopub.status.busy": "2020-12-20T02:13:10.308286Z",
     "iopub.status.idle": "2020-12-20T02:13:10.312466Z",
     "shell.execute_reply": "2020-12-20T02:13:10.311661Z"
    },
    "papermill": {
     "duration": 0.023701,
     "end_time": "2020-12-20T02:13:10.312601",
     "exception": false,
     "start_time": "2020-12-20T02:13:10.288900",
     "status": "completed"
    },
    "tags": []
   },
   "outputs": [],
   "source": [
    "selected_columns = [\"Nearest stationFDistance(minute)\",\"Area(m^2)\",\n",
    "              \"Maximus Building Coverage Ratio(%)\",\"Maximus Floor-area Ratio(%)\",\"Building Age\",\n",
    "              \"Transaction-price(total)\"]"
   ]
  },
  {
   "cell_type": "code",
   "execution_count": 4,
   "metadata": {
    "execution": {
     "iopub.execute_input": "2020-12-20T02:13:10.349528Z",
     "iopub.status.busy": "2020-12-20T02:13:10.348705Z",
     "iopub.status.idle": "2020-12-20T02:13:10.353169Z",
     "shell.execute_reply": "2020-12-20T02:13:10.352467Z"
    },
    "papermill": {
     "duration": 0.025278,
     "end_time": "2020-12-20T02:13:10.353286",
     "exception": false,
     "start_time": "2020-12-20T02:13:10.328008",
     "status": "completed"
    },
    "tags": []
   },
   "outputs": [],
   "source": [
    "dataset = toshima_data[selected_columns].copy()"
   ]
  },
  {
   "cell_type": "code",
   "execution_count": 5,
   "metadata": {
    "execution": {
     "iopub.execute_input": "2020-12-20T02:13:10.391438Z",
     "iopub.status.busy": "2020-12-20T02:13:10.388662Z",
     "iopub.status.idle": "2020-12-20T02:13:10.400995Z",
     "shell.execute_reply": "2020-12-20T02:13:10.400377Z"
    },
    "papermill": {
     "duration": 0.033125,
     "end_time": "2020-12-20T02:13:10.401132",
     "exception": false,
     "start_time": "2020-12-20T02:13:10.368007",
     "status": "completed"
    },
    "tags": []
   },
   "outputs": [
    {
     "name": "stdout",
     "output_type": "stream",
     "text": [
      "6838\n",
      "1207\n"
     ]
    }
   ],
   "source": [
    "train_set, test_set = train_test_split(dataset, test_size=0.15, random_state=42)\n",
    "print(len(train_set))\n",
    "print(len(test_set))"
   ]
  },
  {
   "cell_type": "code",
   "execution_count": 6,
   "metadata": {
    "execution": {
     "iopub.execute_input": "2020-12-20T02:13:10.437234Z",
     "iopub.status.busy": "2020-12-20T02:13:10.436484Z",
     "iopub.status.idle": "2020-12-20T02:13:10.439624Z",
     "shell.execute_reply": "2020-12-20T02:13:10.438936Z"
    },
    "papermill": {
     "duration": 0.023456,
     "end_time": "2020-12-20T02:13:10.439741",
     "exception": false,
     "start_time": "2020-12-20T02:13:10.416285",
     "status": "completed"
    },
    "tags": []
   },
   "outputs": [],
   "source": [
    "attributes = [\"Nearest stationFDistance(minute)\",\"Area(m^2)\",\n",
    "              \"Maximus Building Coverage Ratio(%)\",\"Maximus Floor-area Ratio(%)\",\"Building Age\"]"
   ]
  },
  {
   "cell_type": "markdown",
   "metadata": {
    "papermill": {
     "duration": 0.014587,
     "end_time": "2020-12-20T02:13:10.469230",
     "exception": false,
     "start_time": "2020-12-20T02:13:10.454643",
     "status": "completed"
    },
    "tags": []
   },
   "source": [
    "### Multiple Linear Regression Model"
   ]
  },
  {
   "cell_type": "code",
   "execution_count": 7,
   "metadata": {
    "execution": {
     "iopub.execute_input": "2020-12-20T02:13:10.505239Z",
     "iopub.status.busy": "2020-12-20T02:13:10.504537Z",
     "iopub.status.idle": "2020-12-20T02:13:10.717778Z",
     "shell.execute_reply": "2020-12-20T02:13:10.718479Z"
    },
    "papermill": {
     "duration": 0.234413,
     "end_time": "2020-12-20T02:13:10.718631",
     "exception": false,
     "start_time": "2020-12-20T02:13:10.484218",
     "status": "completed"
    },
    "tags": []
   },
   "outputs": [
    {
     "data": {
      "text/plain": [
       "LinearRegression()"
      ]
     },
     "execution_count": 7,
     "metadata": {},
     "output_type": "execute_result"
    }
   ],
   "source": [
    "from sklearn.linear_model import LinearRegression\n",
    "\n",
    "model = LinearRegression()\n",
    "\n",
    "model.fit(train_set[attributes], train_set[\"Transaction-price(total)\"])"
   ]
  },
  {
   "cell_type": "code",
   "execution_count": 8,
   "metadata": {
    "execution": {
     "iopub.execute_input": "2020-12-20T02:13:10.753969Z",
     "iopub.status.busy": "2020-12-20T02:13:10.752900Z",
     "iopub.status.idle": "2020-12-20T02:13:10.761396Z",
     "shell.execute_reply": "2020-12-20T02:13:10.760478Z"
    },
    "papermill": {
     "duration": 0.02695,
     "end_time": "2020-12-20T02:13:10.761566",
     "exception": false,
     "start_time": "2020-12-20T02:13:10.734616",
     "status": "completed"
    },
    "tags": []
   },
   "outputs": [
    {
     "name": "stdout",
     "output_type": "stream",
     "text": [
      "Slope:  [-0.0091313   0.51499233 -0.00058921  0.04390474 -0.01171517]\n"
     ]
    }
   ],
   "source": [
    "print(\"Slope: \", model.coef_)"
   ]
  },
  {
   "cell_type": "code",
   "execution_count": 9,
   "metadata": {
    "execution": {
     "iopub.execute_input": "2020-12-20T02:13:10.797791Z",
     "iopub.status.busy": "2020-12-20T02:13:10.796703Z",
     "iopub.status.idle": "2020-12-20T02:13:10.803604Z",
     "shell.execute_reply": "2020-12-20T02:13:10.804134Z"
    },
    "papermill": {
     "duration": 0.026804,
     "end_time": "2020-12-20T02:13:10.804301",
     "exception": false,
     "start_time": "2020-12-20T02:13:10.777497",
     "status": "completed"
    },
    "tags": []
   },
   "outputs": [
    {
     "name": "stdout",
     "output_type": "stream",
     "text": [
      "Intercept:  -0.009599251453164266\n"
     ]
    }
   ],
   "source": [
    "print(\"Intercept: \", model.intercept_)"
   ]
  },
  {
   "cell_type": "code",
   "execution_count": 10,
   "metadata": {
    "execution": {
     "iopub.execute_input": "2020-12-20T02:13:10.845624Z",
     "iopub.status.busy": "2020-12-20T02:13:10.844910Z",
     "iopub.status.idle": "2020-12-20T02:13:10.852273Z",
     "shell.execute_reply": "2020-12-20T02:13:10.852814Z"
    },
    "papermill": {
     "duration": 0.032353,
     "end_time": "2020-12-20T02:13:10.852986",
     "exception": false,
     "start_time": "2020-12-20T02:13:10.820633",
     "status": "completed"
    },
    "tags": []
   },
   "outputs": [
    {
     "data": {
      "text/plain": [
       "array([ 0.03864369,  0.0150754 , -0.00019925,  0.00683987,  0.02620958])"
      ]
     },
     "execution_count": 10,
     "metadata": {},
     "output_type": "execute_result"
    }
   ],
   "source": [
    "# output the prediction\n",
    "\n",
    "y_hat = model.predict(train_set[attributes])\n",
    "y_hat[0:5]"
   ]
  },
  {
   "cell_type": "code",
   "execution_count": 11,
   "metadata": {
    "execution": {
     "iopub.execute_input": "2020-12-20T02:13:10.895936Z",
     "iopub.status.busy": "2020-12-20T02:13:10.894984Z",
     "iopub.status.idle": "2020-12-20T02:13:10.900548Z",
     "shell.execute_reply": "2020-12-20T02:13:10.901404Z"
    },
    "papermill": {
     "duration": 0.031523,
     "end_time": "2020-12-20T02:13:10.901637",
     "exception": false,
     "start_time": "2020-12-20T02:13:10.870114",
     "status": "completed"
    },
    "tags": []
   },
   "outputs": [
    {
     "name": "stdout",
     "output_type": "stream",
     "text": [
      "MSE:  0.0005279986758695415\n"
     ]
    }
   ],
   "source": [
    "# MSE \n",
    "\n",
    "from sklearn.metrics import mean_squared_error\n",
    "\n",
    "print(\"MSE: \", mean_squared_error(train_set[\"Transaction-price(total)\"], y_hat))"
   ]
  },
  {
   "cell_type": "markdown",
   "metadata": {
    "papermill": {
     "duration": 0.016604,
     "end_time": "2020-12-20T02:13:10.937911",
     "exception": false,
     "start_time": "2020-12-20T02:13:10.921307",
     "status": "completed"
    },
    "tags": []
   },
   "source": [
    "### Converting Price to Original Values"
   ]
  },
  {
   "cell_type": "code",
   "execution_count": 12,
   "metadata": {
    "execution": {
     "iopub.execute_input": "2020-12-20T02:13:10.979465Z",
     "iopub.status.busy": "2020-12-20T02:13:10.978495Z",
     "iopub.status.idle": "2020-12-20T02:13:11.040518Z",
     "shell.execute_reply": "2020-12-20T02:13:11.041125Z"
    },
    "papermill": {
     "duration": 0.085437,
     "end_time": "2020-12-20T02:13:11.041282",
     "exception": false,
     "start_time": "2020-12-20T02:13:10.955845",
     "status": "completed"
    },
    "tags": []
   },
   "outputs": [
    {
     "name": "stdout",
     "output_type": "stream",
     "text": [
      "Maximum Price = 4400000000.0\n",
      "Minimum Price = 660000.0\n"
     ]
    }
   ],
   "source": [
    "data_cleaned_path = \"../input/toshima-data/toshimaku_cleaned_data.csv\"\n",
    "\n",
    "cleaned_data = pd.read_csv(data_cleaned_path, index_col=0)\n",
    "\n",
    "price_max = cleaned_data[\"Transaction-price(total)\"].max()\n",
    "price_min = cleaned_data[\"Transaction-price(total)\"].min()\n",
    "\n",
    "print(\"Maximum Price =\",price_max)\n",
    "print(\"Minimum Price =\",price_min)"
   ]
  },
  {
   "cell_type": "code",
   "execution_count": 13,
   "metadata": {
    "execution": {
     "iopub.execute_input": "2020-12-20T02:13:11.082741Z",
     "iopub.status.busy": "2020-12-20T02:13:11.082000Z",
     "iopub.status.idle": "2020-12-20T02:13:11.087943Z",
     "shell.execute_reply": "2020-12-20T02:13:11.088582Z"
    },
    "papermill": {
     "duration": 0.028502,
     "end_time": "2020-12-20T02:13:11.088815",
     "exception": false,
     "start_time": "2020-12-20T02:13:11.060313",
     "status": "completed"
    },
    "tags": []
   },
   "outputs": [
    {
     "name": "stdout",
     "output_type": "stream",
     "text": [
      "170666731\n"
     ]
    }
   ],
   "source": [
    "# function to convert normalized price values to original values\n",
    "\n",
    "def convert_price_values(pred):\n",
    "    return int(pred*(price_max-price_min) + price_min)\n",
    "\n",
    "print(convert_price_values(0.03864369))"
   ]
  },
  {
   "cell_type": "markdown",
   "metadata": {
    "papermill": {
     "duration": 0.018024,
     "end_time": "2020-12-20T02:13:11.125504",
     "exception": false,
     "start_time": "2020-12-20T02:13:11.107480",
     "status": "completed"
    },
    "tags": []
   },
   "source": [
    "### Plot Predictions on Test Set"
   ]
  },
  {
   "cell_type": "code",
   "execution_count": 14,
   "metadata": {
    "execution": {
     "iopub.execute_input": "2020-12-20T02:13:11.169043Z",
     "iopub.status.busy": "2020-12-20T02:13:11.168041Z",
     "iopub.status.idle": "2020-12-20T02:13:11.180137Z",
     "shell.execute_reply": "2020-12-20T02:13:11.179420Z"
    },
    "papermill": {
     "duration": 0.034276,
     "end_time": "2020-12-20T02:13:11.180291",
     "exception": false,
     "start_time": "2020-12-20T02:13:11.146015",
     "status": "completed"
    },
    "tags": []
   },
   "outputs": [],
   "source": [
    "# function to plot predictions\n",
    "\n",
    "def plot_predictions(preds1, y_test):\n",
    "    plt.figure(figsize=(12, 8))\n",
    "    plt.plot(preds1, y_test, 'ro', label='Multiple Linear Regression Model')\n",
    "    plt.xlabel('Preds')\n",
    "    plt.ylabel('Labels')\n",
    "    \n",
    "    y_min = min(min(y_test), min(preds1))\n",
    "    y_max = max(max(y_test), max(preds1))\n",
    "    \n",
    "    plt.xlim([y_min, y_max])\n",
    "    plt.ylim([y_min, y_max])\n",
    "    plt.plot([y_min, y_max], [y_min, y_max], 'b--')\n",
    "    plt.legend()\n",
    "    plt.show()\n",
    "    return"
   ]
  },
  {
   "cell_type": "code",
   "execution_count": 15,
   "metadata": {
    "execution": {
     "iopub.execute_input": "2020-12-20T02:13:11.230546Z",
     "iopub.status.busy": "2020-12-20T02:13:11.229832Z",
     "iopub.status.idle": "2020-12-20T02:13:11.449217Z",
     "shell.execute_reply": "2020-12-20T02:13:11.448632Z"
    },
    "papermill": {
     "duration": 0.250206,
     "end_time": "2020-12-20T02:13:11.449351",
     "exception": false,
     "start_time": "2020-12-20T02:13:11.199145",
     "status": "completed"
    },
    "tags": []
   },
   "outputs": [
    {
     "data": {
      "image/png": "[encoded data removed]",
      "text/plain": [
       "<Figure size 864x576 with 1 Axes>"
      ]
     },
     "metadata": {
      "needs_background": "light"
     },
     "output_type": "display_data"
    }
   ],
   "source": [
    "preds = model.predict(test_set[attributes])\n",
    "\n",
    "price_preds = [convert_price_values(y) for y in preds]\n",
    "price_labels = [convert_price_values(y) for y in test_set[\"Transaction-price(total)\"]]\n",
    "plot_predictions(price_preds, price_labels)"
   ]
  }
 ],
 "metadata": {
  "kernelspec": {
   "display_name": "Python 3",
   "language": "python",
   "name": "python3"
  },
  "language_info": {
   "codemirror_mode": {
    "name": "ipython",
    "version": 3
   },
   "file_extension": ".py",
   "mimetype": "text/x-python",
   "name": "python",
   "nbconvert_exporter": "python",
   "pygments_lexer": "ipython3",
   "version": "3.7.6"
  },
  "papermill": {
   "duration": 15.325916,
   "end_time": "2020-12-20T02:13:11.577105",
   "environment_variables": {},
   "exception": null,
   "input_path": "__notebook__.ipynb",
   "output_path": "__notebook__.ipynb",
   "parameters": {},
   "start_time": "2020-12-20T02:12:56.251189",
   "version": "2.1.0"
  }
 },
 "nbformat": 4,
 "nbformat_minor": 4
}
